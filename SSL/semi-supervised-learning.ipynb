{
  "nbformat": 4,
  "nbformat_minor": 0,
  "metadata": {
    "colab": {
      "provenance": []
    },
    "kernelspec": {
      "name": "python3",
      "display_name": "Python 3"
    },
    "language_info": {
      "name": "python"
    }
  },
  "cells": [
    {
      "cell_type": "code",
      "execution_count": 1,
      "metadata": {
        "id": "MkNrCQ32TumD",
        "colab": {
          "base_uri": "https://localhost:8080/"
        },
        "outputId": "a9883625-fd37-4e77-c7f0-93832afd4b8b"
      },
      "outputs": [
        {
          "output_type": "stream",
          "name": "stdout",
          "text": [
            "Mounted at /content/drive\n"
          ]
        }
      ],
      "source": [
        "from google.colab import drive\n",
        "drive.mount('/content/drive')"
      ]
    },
    {
      "cell_type": "code",
      "source": [
        "#necessary imports\n",
        "import sys\n",
        "import math\n",
        "import scipy\n",
        "import random\n",
        "import logging\n",
        "import warnings\n",
        "import operator\n",
        "import copy as cp\n",
        "import numpy as np\n",
        "from numpy import *\n",
        "import pandas as pd\n",
        "import array as arr\n",
        "from copy import copy\n",
        "from time import time\n",
        "import seaborn as sns\n",
        "from sklearn import svm\n",
        "from scipy import sparse\n",
        "from scipy import optimize\n",
        "from qns3vm import QN_S3VM\n",
        "from sklearn import metrics\n",
        "from sklearn.svm import SVC \n",
        "from numpy import concatenate\n",
        "import scipy.sparse.csc as csc\n",
        "warnings.simplefilter('error')\n",
        "import matplotlib.pyplot as plt\n",
        "warnings.filterwarnings(\"ignore\")\n",
        "from imblearn.over_sampling import SMOTE\n",
        "from sklearn.metrics import accuracy_score\n",
        "from sklearn.metrics import confusion_matrix\n",
        "from sklearn.preprocessing import LabelEncoder\n",
        "from sklearn.preprocessing import MinMaxScaler\n",
        "from sklearn.metrics import classification_report\n",
        "from sklearn.semi_supervised import LabelSpreading \n",
        "from sklearn.linear_model import LogisticRegression\n",
        "from sklearn.semi_supervised import LabelPropagation\n",
        "from sklearn.semi_supervised import SelfTrainingClassifier\n",
        "from scipy.spatial.distance import cdist, pdist, squareform"
      ],
      "metadata": {
        "id": "uyi3liiUrq-w"
      },
      "execution_count": 2,
      "outputs": []
    },
    {
      "cell_type": "code",
      "source": [
        "#loading datasets \n",
        "train_unlab = pd.read_csv(\"/content/drive/MyDrive/tra.csv\")\n",
        "train_lab = pd.read_csv(\"/content/drive/MyDrive/trs.csv\")\n",
        "test_lab = pd.read_csv(\"/content/drive/MyDrive/tst.csv\")"
      ],
      "metadata": {
        "id": "cVQF54l6pPTJ"
      },
      "execution_count": 3,
      "outputs": []
    },
    {
      "cell_type": "code",
      "source": [
        "print(train_unlab.shape, train_lab.shape, test_lab.shape)"
      ],
      "metadata": {
        "colab": {
          "base_uri": "https://localhost:8080/"
        },
        "id": "tAUHP_9_rRp4",
        "outputId": "816ba08c-b2f2-4fcd-adb1-a8150ad80f6c"
      },
      "execution_count": 4,
      "outputs": [
        {
          "output_type": "stream",
          "name": "stdout",
          "text": [
            "(959, 12) (959, 12) (107, 12)\n"
          ]
        }
      ]
    },
    {
      "cell_type": "code",
      "source": [
        "#concatenating both the train datasets since the unlabeled dataset has labeled values \n",
        "train = pd.concat([train_lab, train_unlab], axis=0)\n",
        "train[' Class'].value_counts()"
      ],
      "metadata": {
        "colab": {
          "base_uri": "https://localhost:8080/"
        },
        "id": "Divoirt8zJpi",
        "outputId": "c3e74051-204c-4e28-f1a1-639e163c9d27"
      },
      "execution_count": 5,
      "outputs": [
        {
          "output_type": "execute_result",
          "data": {
            "text/plain": [
              " unlabeled    576\n",
              " H            423\n",
              " D            296\n",
              " C            264\n",
              " B            183\n",
              " E            123\n",
              " F             53\n",
              "Name:  Class, dtype: int64"
            ]
          },
          "metadata": {},
          "execution_count": 5
        }
      ]
    },
    {
      "cell_type": "code",
      "source": [
        "#splitting labeled and unlabeled data from the concatenated dataframe \n",
        "df_lab = train.iloc[:1341,:]\n",
        "df_unlab = train.iloc[1342:,:]\n",
        "\n",
        "print(df_lab.shape, df_unlab.shape)"
      ],
      "metadata": {
        "colab": {
          "base_uri": "https://localhost:8080/"
        },
        "id": "LcOozp8R3Ku-",
        "outputId": "edb4cd4c-f548-4593-a725-94f7c0441a56"
      },
      "execution_count": 6,
      "outputs": [
        {
          "output_type": "stream",
          "name": "stdout",
          "text": [
            "(1341, 12) (576, 12)\n"
          ]
        }
      ]
    },
    {
      "cell_type": "code",
      "source": [
        "df_lab= df_lab.loc[~df_lab.index.duplicated(), :]\n",
        "df_lab[df_lab.index.duplicated()]"
      ],
      "metadata": {
        "colab": {
          "base_uri": "https://localhost:8080/",
          "height": 49
        },
        "id": "0DyaBRPUjDjM",
        "outputId": "b43bbda8-bcf9-4ce4-a902-9bc2de0bb09c"
      },
      "execution_count": 7,
      "outputs": [
        {
          "output_type": "execute_result",
          "data": {
            "text/plain": [
              "Empty DataFrame\n",
              "Columns: [LargestSpotSize,  SpotDistribution,  Activity,  Evolution, Prev24Hour,  HistComplex,  BecomeHist,  Area,  C-class,  M-class,  X-class,  Class]\n",
              "Index: []"
            ],
            "text/html": [
              "\n",
              "  <div id=\"df-2845e77f-fc8a-4e61-b8f8-fe78aa16c2a1\">\n",
              "    <div class=\"colab-df-container\">\n",
              "      <div>\n",
              "<style scoped>\n",
              "    .dataframe tbody tr th:only-of-type {\n",
              "        vertical-align: middle;\n",
              "    }\n",
              "\n",
              "    .dataframe tbody tr th {\n",
              "        vertical-align: top;\n",
              "    }\n",
              "\n",
              "    .dataframe thead th {\n",
              "        text-align: right;\n",
              "    }\n",
              "</style>\n",
              "<table border=\"1\" class=\"dataframe\">\n",
              "  <thead>\n",
              "    <tr style=\"text-align: right;\">\n",
              "      <th></th>\n",
              "      <th>LargestSpotSize</th>\n",
              "      <th>SpotDistribution</th>\n",
              "      <th>Activity</th>\n",
              "      <th>Evolution</th>\n",
              "      <th>Prev24Hour</th>\n",
              "      <th>HistComplex</th>\n",
              "      <th>BecomeHist</th>\n",
              "      <th>Area</th>\n",
              "      <th>C-class</th>\n",
              "      <th>M-class</th>\n",
              "      <th>X-class</th>\n",
              "      <th>Class</th>\n",
              "    </tr>\n",
              "  </thead>\n",
              "  <tbody>\n",
              "  </tbody>\n",
              "</table>\n",
              "</div>\n",
              "      <button class=\"colab-df-convert\" onclick=\"convertToInteractive('df-2845e77f-fc8a-4e61-b8f8-fe78aa16c2a1')\"\n",
              "              title=\"Convert this dataframe to an interactive table.\"\n",
              "              style=\"display:none;\">\n",
              "        \n",
              "  <svg xmlns=\"http://www.w3.org/2000/svg\" height=\"24px\"viewBox=\"0 0 24 24\"\n",
              "       width=\"24px\">\n",
              "    <path d=\"M0 0h24v24H0V0z\" fill=\"none\"/>\n",
              "    <path d=\"M18.56 5.44l.94 2.06.94-2.06 2.06-.94-2.06-.94-.94-2.06-.94 2.06-2.06.94zm-11 1L8.5 8.5l.94-2.06 2.06-.94-2.06-.94L8.5 2.5l-.94 2.06-2.06.94zm10 10l.94 2.06.94-2.06 2.06-.94-2.06-.94-.94-2.06-.94 2.06-2.06.94z\"/><path d=\"M17.41 7.96l-1.37-1.37c-.4-.4-.92-.59-1.43-.59-.52 0-1.04.2-1.43.59L10.3 9.45l-7.72 7.72c-.78.78-.78 2.05 0 2.83L4 21.41c.39.39.9.59 1.41.59.51 0 1.02-.2 1.41-.59l7.78-7.78 2.81-2.81c.8-.78.8-2.07 0-2.86zM5.41 20L4 18.59l7.72-7.72 1.47 1.35L5.41 20z\"/>\n",
              "  </svg>\n",
              "      </button>\n",
              "      \n",
              "  <style>\n",
              "    .colab-df-container {\n",
              "      display:flex;\n",
              "      flex-wrap:wrap;\n",
              "      gap: 12px;\n",
              "    }\n",
              "\n",
              "    .colab-df-convert {\n",
              "      background-color: #E8F0FE;\n",
              "      border: none;\n",
              "      border-radius: 50%;\n",
              "      cursor: pointer;\n",
              "      display: none;\n",
              "      fill: #1967D2;\n",
              "      height: 32px;\n",
              "      padding: 0 0 0 0;\n",
              "      width: 32px;\n",
              "    }\n",
              "\n",
              "    .colab-df-convert:hover {\n",
              "      background-color: #E2EBFA;\n",
              "      box-shadow: 0px 1px 2px rgba(60, 64, 67, 0.3), 0px 1px 3px 1px rgba(60, 64, 67, 0.15);\n",
              "      fill: #174EA6;\n",
              "    }\n",
              "\n",
              "    [theme=dark] .colab-df-convert {\n",
              "      background-color: #3B4455;\n",
              "      fill: #D2E3FC;\n",
              "    }\n",
              "\n",
              "    [theme=dark] .colab-df-convert:hover {\n",
              "      background-color: #434B5C;\n",
              "      box-shadow: 0px 1px 3px 1px rgba(0, 0, 0, 0.15);\n",
              "      filter: drop-shadow(0px 1px 2px rgba(0, 0, 0, 0.3));\n",
              "      fill: #FFFFFF;\n",
              "    }\n",
              "  </style>\n",
              "\n",
              "      <script>\n",
              "        const buttonEl =\n",
              "          document.querySelector('#df-2845e77f-fc8a-4e61-b8f8-fe78aa16c2a1 button.colab-df-convert');\n",
              "        buttonEl.style.display =\n",
              "          google.colab.kernel.accessAllowed ? 'block' : 'none';\n",
              "\n",
              "        async function convertToInteractive(key) {\n",
              "          const element = document.querySelector('#df-2845e77f-fc8a-4e61-b8f8-fe78aa16c2a1');\n",
              "          const dataTable =\n",
              "            await google.colab.kernel.invokeFunction('convertToInteractive',\n",
              "                                                     [key], {});\n",
              "          if (!dataTable) return;\n",
              "\n",
              "          const docLinkHtml = 'Like what you see? Visit the ' +\n",
              "            '<a target=\"_blank\" href=https://colab.research.google.com/notebooks/data_table.ipynb>data table notebook</a>'\n",
              "            + ' to learn more about interactive tables.';\n",
              "          element.innerHTML = '';\n",
              "          dataTable['output_type'] = 'display_data';\n",
              "          await google.colab.output.renderOutput(dataTable, element);\n",
              "          const docLink = document.createElement('div');\n",
              "          docLink.innerHTML = docLinkHtml;\n",
              "          element.appendChild(docLink);\n",
              "        }\n",
              "      </script>\n",
              "    </div>\n",
              "  </div>\n",
              "  "
            ]
          },
          "metadata": {},
          "execution_count": 7
        }
      ]
    },
    {
      "cell_type": "code",
      "source": [
        "print(df_lab.shape, df_unlab.shape)"
      ],
      "metadata": {
        "colab": {
          "base_uri": "https://localhost:8080/"
        },
        "id": "cVnIP3L-uzz4",
        "outputId": "e3d26422-482e-4c6e-fd2c-5bcbf6cb4d8b"
      },
      "execution_count": 8,
      "outputs": [
        {
          "output_type": "stream",
          "name": "stdout",
          "text": [
            "(959, 12) (576, 12)\n"
          ]
        }
      ]
    },
    {
      "cell_type": "code",
      "source": [
        "#converting numerical columns with 2 types to binary values \n",
        "df_lab[' Activity'] = df_lab[' Activity'].replace([1, 2], [0, 1])\n",
        "df_unlab[' Activity'] = df_unlab[' Activity'].replace([1, 2], [0, 1])\n",
        "test_lab[' Activity'] = test_lab[' Activity'].replace([1, 2], [0, 1])\n",
        "\n",
        "df_lab[' HistComplex'] = df_lab[' HistComplex'].replace([1, 2], [0, 1])\n",
        "df_unlab[' HistComplex'] = df_unlab[' HistComplex'].replace([1, 2], [0, 1])\n",
        "test_lab[' HistComplex'] = test_lab[' HistComplex'].replace([1, 2], [0, 1])\n",
        "\n",
        "df_lab[' BecomeHist'] = df_lab[' BecomeHist'].replace([1, 2], [0, 1])\n",
        "df_unlab[' BecomeHist'] = df_unlab[' BecomeHist'].replace([1, 2], [0, 1])\n",
        "test_lab[' BecomeHist'] = test_lab[' BecomeHist'].replace([1, 2], [0, 1])\n",
        "\n",
        "df_lab[' Area'] = df_lab[' Area'].replace([1, 2], [0, 1])\n",
        "df_unlab[' Area'] = df_unlab[' Area'].replace([1, 2], [0, 1])\n",
        "test_lab[' Area'] = test_lab[' Area'].replace([1, 2], [0, 1])"
      ],
      "metadata": {
        "id": "zBUZXLTynVtF"
      },
      "execution_count": 9,
      "outputs": []
    },
    {
      "cell_type": "code",
      "source": [
        "#scaling the numerical columns  \n",
        "mms = MinMaxScaler()\n",
        "df_lab[[' C-class', ' M-class', ' X-Class']] = mms.fit_transform(df_lab[[' C-class', ' M-class', ' X-class']])\n",
        "df_unlab[[' C-class', ' M-class', ' X-Class']] = mms.fit_transform(df_unlab[[' C-class', ' M-class', ' X-class']])\n",
        "test_lab[[' C-class', ' M-class', ' X-Class']] = mms.fit_transform(test_lab[[' C-class', ' M-class', ' X-class']])"
      ],
      "metadata": {
        "id": "WoivF1aanYBP"
      },
      "execution_count": 10,
      "outputs": []
    },
    {
      "cell_type": "code",
      "source": [
        "#get dummies for categorical columns \n",
        "df_lab = pd.get_dummies(data = df_lab, columns = ['LargestSpotSize', ' SpotDistribution', ' Evolution', 'Prev24Hour'])\n",
        "df_unlab = pd.get_dummies(df_unlab, columns = ['LargestSpotSize', ' SpotDistribution', ' Evolution', 'Prev24Hour'])\n",
        "test_lab = pd.get_dummies(test_lab, columns = ['LargestSpotSize', ' SpotDistribution', ' Evolution', 'Prev24Hour'])\n",
        "\n",
        "le = LabelEncoder()"
      ],
      "metadata": {
        "id": "Z263kjh3orvM"
      },
      "execution_count": 11,
      "outputs": []
    },
    {
      "cell_type": "code",
      "source": [
        "#X and y split\n",
        "X_train_unlab = df_unlab.drop([' Class'], axis=1)\n",
        "y_train_unlab = np.array([-1] * len(X_train_unlab))\n",
        "\n",
        "X_train_lab = df_lab.drop([' Class'], axis=1)\n",
        "y_train_lab = df_lab[' Class']\n",
        "y_train_lab = le.fit_transform(y_train_lab)\n",
        "\n",
        "X_test = test_lab.drop([' Class'], axis=1)\n",
        "X_test['Prev24Hour_2'] = np.array([0]* len(X_test))\n",
        "y_test = test_lab[' Class']\n",
        "y_test = le.fit_transform(y_test)"
      ],
      "metadata": {
        "id": "auxxANmhy96l"
      },
      "execution_count": 12,
      "outputs": []
    },
    {
      "cell_type": "code",
      "source": [
        "np.unique(y_train_lab, return_counts=True)"
      ],
      "metadata": {
        "colab": {
          "base_uri": "https://localhost:8080/"
        },
        "id": "L4_ziIxA0a7D",
        "outputId": "63d3e3e7-ac5c-43e6-9527-2a74837a1edc"
      },
      "execution_count": 13,
      "outputs": [
        {
          "output_type": "execute_result",
          "data": {
            "text/plain": [
              "(array([0, 1, 2, 3, 4, 5]), array([133, 189, 216,  85,  39, 297]))"
            ]
          },
          "metadata": {},
          "execution_count": 13
        }
      ]
    },
    {
      "cell_type": "code",
      "source": [
        "#balancing the classes\n",
        "sm = SMOTE(random_state=42)\n",
        "X_train_lab, y_train_lab = sm.fit_resample(X_train_lab, y_train_lab)"
      ],
      "metadata": {
        "id": "IT_Dif8o_9vh"
      },
      "execution_count": 14,
      "outputs": []
    },
    {
      "cell_type": "code",
      "source": [
        "#summarize train set size\n",
        "print('Labeled Train Set:', X_train_lab.shape, y_train_lab.shape)\n",
        "print('Unlabeled Train Set:', X_train_unlab.shape, y_train_unlab.shape)\n",
        "\n",
        "#summarize test set size\n",
        "print('Test Set:', X_test.shape, y_test.shape)"
      ],
      "metadata": {
        "colab": {
          "base_uri": "https://localhost:8080/"
        },
        "id": "egZrysazsJBz",
        "outputId": "606f6a7c-f3a1-4f7e-9275-cddfd4a6654d"
      },
      "execution_count": 15,
      "outputs": [
        {
          "output_type": "stream",
          "name": "stdout",
          "text": [
            "Labeled Train Set: (1782, 24) (1782,)\n",
            "Unlabeled Train Set: (576, 24) (576,)\n",
            "Test Set: (107, 24) (107,)\n"
          ]
        }
      ]
    },
    {
      "cell_type": "markdown",
      "source": [
        "#**Baseline Models**"
      ],
      "metadata": {
        "id": "_Kj8SbTErEoJ"
      }
    },
    {
      "cell_type": "code",
      "source": [
        "#baseline SVM for labeled data \n",
        "lin_clf = svm.LinearSVC()\n",
        "lin_clf.fit(X_train_lab, y_train_lab)\n",
        "y_pred_test = lin_clf.predict(X_test)\n",
        "y_pred_train = lin_clf.predict(X_train_lab)\n",
        "\n",
        "train_acc = accuracy_score(y_train_lab, y_pred_train)\n",
        "test_acc = accuracy_score(y_test, y_pred_test)\n",
        "\n",
        "cm = metrics.confusion_matrix(y_test, y_pred_test)\n",
        "cm_display = metrics.ConfusionMatrixDisplay(confusion_matrix = cm, display_labels = [0,1,2,3,4,5])\n",
        "cm_display.plot()\n",
        "plt.show()\n",
        "\n",
        "print(classification_report(y_test, y_pred_test))\n",
        "\n",
        "print(f\"Train accuracy Score: {train_acc}\")\n",
        "print(f\"Test accuracy Score: {test_acc}\")"
      ],
      "metadata": {
        "colab": {
          "base_uri": "https://localhost:8080/",
          "height": 538
        },
        "id": "OcdTvk2DrMt0",
        "outputId": "bb814e82-1eb5-4d62-c388-865e78599542"
      },
      "execution_count": 16,
      "outputs": [
        {
          "output_type": "display_data",
          "data": {
            "text/plain": [
              "<Figure size 432x288 with 2 Axes>"
            ],
            "image/png": "[encoded data removed]"
          },
          "metadata": {
            "needs_background": "light"
          }
        },
        {
          "output_type": "stream",
          "name": "stdout",
          "text": [
            "              precision    recall  f1-score   support\n",
            "\n",
            "           0       1.00      1.00      1.00        14\n",
            "           1       0.58      0.68      0.62        22\n",
            "           2       0.53      0.35      0.42        23\n",
            "           3       0.29      0.40      0.33        10\n",
            "           4       0.25      0.25      0.25         4\n",
            "           5       1.00      1.00      1.00        34\n",
            "\n",
            "    accuracy                           0.71       107\n",
            "   macro avg       0.61      0.61      0.60       107\n",
            "weighted avg       0.72      0.71      0.71       107\n",
            "\n",
            "Train accuracy Score: 0.7530864197530864\n",
            "Test accuracy Score: 0.7102803738317757\n"
          ]
        }
      ]
    },
    {
      "cell_type": "code",
      "source": [
        "#baseline logistic regression for labeled data \n",
        "clf = LogisticRegression(max_iter=1000)\n",
        "\n",
        "clf.fit(X_train_lab, y_train_lab)\n",
        "y_pred_test = clf.predict(X_test)\n",
        "y_pred_train = clf.predict(X_train_lab)\n",
        "\n",
        "train_acc = accuracy_score(y_train_lab, y_pred_train)\n",
        "test_acc = accuracy_score(y_test, y_pred_test)\n",
        "\n",
        "cm = metrics.confusion_matrix(y_test, y_pred_test)\n",
        "cm_display = metrics.ConfusionMatrixDisplay(confusion_matrix = cm, display_labels = [0,1,2,3,4,5])\n",
        "cm_display.plot()\n",
        "plt.show()\n",
        "\n",
        "print(classification_report(y_test, y_pred_test))\n",
        "\n",
        "print(f\"Train accuracy Score: {train_acc}\")\n",
        "print(f\"Test accuracy Score: {test_acc}\")"
      ],
      "metadata": {
        "colab": {
          "base_uri": "https://localhost:8080/",
          "height": 538
        },
        "id": "tyDEwG2U8TH3",
        "outputId": "8f1077b5-d4f5-47c9-be47-3b700e3c646b"
      },
      "execution_count": 17,
      "outputs": [
        {
          "output_type": "display_data",
          "data": {
            "text/plain": [
              "<Figure size 432x288 with 2 Axes>"
            ],
            "image/png": "[encoded data removed]"
          },
          "metadata": {
            "needs_background": "light"
          }
        },
        {
          "output_type": "stream",
          "name": "stdout",
          "text": [
            "              precision    recall  f1-score   support\n",
            "\n",
            "           0       1.00      1.00      1.00        14\n",
            "           1       0.67      0.64      0.65        22\n",
            "           2       0.50      0.43      0.47        23\n",
            "           3       0.46      0.60      0.52        10\n",
            "           4       0.40      0.50      0.44         4\n",
            "           5       1.00      1.00      1.00        34\n",
            "\n",
            "    accuracy                           0.75       107\n",
            "   macro avg       0.67      0.70      0.68       107\n",
            "weighted avg       0.75      0.75      0.75       107\n",
            "\n",
            "Train accuracy Score: 0.7654320987654321\n",
            "Test accuracy Score: 0.7476635514018691\n"
          ]
        }
      ]
    },
    {
      "cell_type": "markdown",
      "source": [
        "## **Self Learning**"
      ],
      "metadata": {
        "id": "ebx3UgjbyoKV"
      }
    },
    {
      "cell_type": "code",
      "source": [
        "def selflearning_logisticreg(X_train_lab,y_train_lab, X_test, y_test, X_train_unlab):\n",
        "\n",
        "  # Initiate iteration counter\n",
        "  iterations = 0\n",
        "\n",
        "  # Containers to hold accuracy and # of pseudo-labels\n",
        "  train_accs = []\n",
        "  test_accs = []\n",
        "  pseudo_labels = []\n",
        "\n",
        "  # Assign value to initiate while loop\n",
        "  high_prob = [1] \n",
        "\n",
        "  # Loop will run until there are no more high-probability pseudo-labels\n",
        "  while len(high_prob) > 0:\n",
        "          \n",
        "      # Fit classifier and make train/test predictions\n",
        "      clf = LogisticRegression(max_iter=1000)\n",
        "      clf.fit(X_train_lab, y_train_lab)\n",
        "      y_hat_train = clf.predict(X_train_lab)\n",
        "      y_hat_test = clf.predict(X_test)\n",
        "\n",
        "      # Calculate and print iteration # and accuracy scores, and store accuracy scores\n",
        "      train_acc = accuracy_score(y_train_lab, y_hat_train)\n",
        "      test_acc = accuracy_score(y_test, y_hat_test)\n",
        "      print(f\"Iteration {iterations}\")\n",
        "      print(f\"Train acc: {train_acc}\")\n",
        "      print(f\"Test acc: {test_acc}\")\n",
        "      train_accs.append(train_acc)\n",
        "      test_accs.append(test_acc)\n",
        "    \n",
        "      # Generate predictions and probabilities for unlabeled data\n",
        "      print(f\"Now predicting labels for unlabeled data...\")\n",
        "\n",
        "      pred_probs = clf.predict_proba(X_train_unlab)\n",
        "      preds = clf.predict(X_train_unlab)\n",
        "      prob_0 = pred_probs[:,0]\n",
        "      prob_1 = pred_probs[:,1]\n",
        "\n",
        "      # Store predictions and probabilities in dataframe\n",
        "      df_pred_prob = pd.DataFrame([])\n",
        "      df_pred_prob['preds'] = preds\n",
        "      df_pred_prob['prob_0'] = prob_0\n",
        "      df_pred_prob['prob_1'] = prob_1\n",
        "      df_pred_prob.index = X_train_unlab.index\n",
        "      \n",
        "      # Separate predictions with > 99% probability\n",
        "      high_prob = pd.concat([df_pred_prob.loc[df_pred_prob['prob_0'] > 0.90],\n",
        "                            df_pred_prob.loc[df_pred_prob['prob_1'] > 0.90]],\n",
        "                            axis=0)\n",
        "      \n",
        "      print(f\"{len(high_prob)} high-probability predictions added to training data.\")\n",
        "      \n",
        "      pseudo_labels.append(len(high_prob))\n",
        "\n",
        "      # Add pseudo-labeled data to training data\n",
        "      X_train_lab = pd.concat([X_train_lab, X_train_unlab.loc[high_prob.index]], axis=0)\n",
        "      y_train_lab = pd.concat([pd.DataFrame(y_train_lab), high_prob.preds])     \n",
        "      \n",
        "      # Drop pseudo-labeled instances from unlabeled data\n",
        "      X_train_unlab = X_train_unlab.drop(index=high_prob.index)\n",
        "      print(f\"{len(X_train_unlab)} unlabeled instances remaining.\\n\")\n",
        "      \n",
        "      # Update iteration counter\n",
        "      iterations += 1\n",
        "\n",
        "  cm = metrics.confusion_matrix(y_test, y_hat_test)\n",
        "  cm_display = metrics.ConfusionMatrixDisplay(confusion_matrix = cm, display_labels = [0,1,2,3,4,5])\n",
        "  cm_display.plot()\n",
        "  plt.show()\n",
        "\n",
        "  print(classification_report(y_test, y_pred_test))\n",
        "\n",
        "\n",
        "selflearning_logisticreg(X_train_lab,y_train_lab, X_test, y_test, X_train_unlab)"
      ],
      "metadata": {
        "colab": {
          "base_uri": "https://localhost:8080/",
          "height": 868
        },
        "id": "PTFGLGZBRiSp",
        "outputId": "9d7294f4-1ff5-4b6b-94f4-f0f2fa7bbe6e"
      },
      "execution_count": 18,
      "outputs": [
        {
          "output_type": "stream",
          "name": "stdout",
          "text": [
            "Iteration 0\n",
            "Train acc: 0.7654320987654321\n",
            "Test acc: 0.7476635514018691\n",
            "Now predicting labels for unlabeled data...\n",
            "78 high-probability predictions added to training data.\n",
            "498 unlabeled instances remaining.\n",
            "\n",
            "Iteration 1\n",
            "Train acc: 0.7752688172043011\n",
            "Test acc: 0.7476635514018691\n",
            "Now predicting labels for unlabeled data...\n",
            "2 high-probability predictions added to training data.\n",
            "496 unlabeled instances remaining.\n",
            "\n",
            "Iteration 2\n",
            "Train acc: 0.7755102040816326\n",
            "Test acc: 0.7476635514018691\n",
            "Now predicting labels for unlabeled data...\n",
            "0 high-probability predictions added to training data.\n",
            "496 unlabeled instances remaining.\n",
            "\n"
          ]
        },
        {
          "output_type": "display_data",
          "data": {
            "text/plain": [
              "<Figure size 432x288 with 2 Axes>"
            ],
            "image/png": "[encoded data removed]"
          },
          "metadata": {
            "needs_background": "light"
          }
        },
        {
          "output_type": "stream",
          "name": "stdout",
          "text": [
            "              precision    recall  f1-score   support\n",
            "\n",
            "           0       1.00      1.00      1.00        14\n",
            "           1       0.67      0.64      0.65        22\n",
            "           2       0.50      0.43      0.47        23\n",
            "           3       0.46      0.60      0.52        10\n",
            "           4       0.40      0.50      0.44         4\n",
            "           5       1.00      1.00      1.00        34\n",
            "\n",
            "    accuracy                           0.75       107\n",
            "   macro avg       0.67      0.70      0.68       107\n",
            "weighted avg       0.75      0.75      0.75       107\n",
            "\n"
          ]
        }
      ]
    },
    {
      "cell_type": "code",
      "source": [
        "def selftraining_SVC(X_train_lab,y_train_lab, X_test, y_test, X_train_unlab, y_train_unlab):\n",
        "\n",
        "  X_train = pd.concat([X_train_lab, X_train_unlab])\n",
        "  y_train = np.concatenate((y_train_lab, y_train_unlab), axis=None)\n",
        "\n",
        "  model_svc = SVC(kernel='rbf', \n",
        "                  probability=True, \n",
        "                  C=1.0, \n",
        "                  gamma='scale',\n",
        "                  random_state=0\n",
        "                )\n",
        "\n",
        "  self_training_model = SelfTrainingClassifier(base_estimator=model_svc, \n",
        "                                              threshold=0.7,\n",
        "                                              criterion='threshold', \n",
        "                                              max_iter=100, \n",
        "                                              verbose=True \n",
        "                                          )\n",
        "  clf_ST = self_training_model.fit(X_train, y_train)\n",
        "  pred = clf_ST.predict(X_test)\n",
        "  pred_train = clf_ST.predict(X_train_lab)\n",
        "\n",
        "\n",
        "  accuracy_score_train = accuracy_score(y_train_lab, pred_train)\n",
        "  print('Accuracy Score: ', accuracy_score_train)\n",
        "\n",
        "  accuracy_score_test = accuracy_score(y_test, pred)\n",
        "  print('Accuracy Score: ', accuracy_score_test)\n",
        "  \n",
        "  print(classification_report(y_test, pred))\n",
        "\n",
        "  cm = metrics.confusion_matrix(y_test, pred)\n",
        "  cm_display = metrics.ConfusionMatrixDisplay(confusion_matrix = cm, display_labels = [0,1,2,3,4,5])\n",
        "  cm_display.plot()\n",
        "  plt.show()\n",
        "\n",
        "\n",
        "selftraining_SVC(X_train_lab,y_train_lab, X_test, y_test, X_train_unlab, y_train_unlab)"
      ],
      "metadata": {
        "colab": {
          "base_uri": "https://localhost:8080/",
          "height": 677
        },
        "id": "82IEa0gZ_TcG",
        "outputId": "2e9bd3cc-d27b-4ca9-b1b6-1be885d9fdc0"
      },
      "execution_count": 19,
      "outputs": [
        {
          "output_type": "stream",
          "name": "stdout",
          "text": [
            "End of iteration 1, added 321 new labels.\n",
            "End of iteration 2, added 45 new labels.\n",
            "End of iteration 3, added 47 new labels.\n",
            "End of iteration 4, added 20 new labels.\n",
            "End of iteration 5, added 24 new labels.\n",
            "End of iteration 6, added 8 new labels.\n",
            "End of iteration 7, added 9 new labels.\n",
            "End of iteration 8, added 1 new labels.\n",
            "Accuracy Score:  0.7822671156004489\n",
            "Accuracy Score:  0.7663551401869159\n",
            "              precision    recall  f1-score   support\n",
            "\n",
            "           0       1.00      1.00      1.00        14\n",
            "           1       0.69      0.82      0.75        22\n",
            "           2       0.52      0.48      0.50        23\n",
            "           3       0.50      0.40      0.44        10\n",
            "           4       0.25      0.25      0.25         4\n",
            "           5       1.00      1.00      1.00        34\n",
            "\n",
            "    accuracy                           0.77       107\n",
            "   macro avg       0.66      0.66      0.66       107\n",
            "weighted avg       0.76      0.77      0.76       107\n",
            "\n"
          ]
        },
        {
          "output_type": "display_data",
          "data": {
            "text/plain": [
              "<Figure size 432x288 with 2 Axes>"
            ],
            "image/png": "[encoded data removed]"
          },
          "metadata": {
            "needs_background": "light"
          }
        }
      ]
    },
    {
      "cell_type": "markdown",
      "source": [
        "# **Label Spreading and Label Propagation**"
      ],
      "metadata": {
        "id": "72suzREs5tgE"
      }
    },
    {
      "cell_type": "code",
      "source": [
        "X_train = pd.concat([X_train_lab, X_train_unlab])\n",
        "y_train = np.concatenate((y_train_lab, y_train_unlab), axis=None)\n",
        "label_prop_model = LabelPropagation(n_neighbors = 5, kernel='rbf')\n",
        "label_prop_model.fit(X_train, y_train)\n",
        "pred = label_prop_model.predict(X_test)\n",
        "pred_train = label_prop_model.predict(X_train_lab)\n",
        "\n",
        "accuracy_score_train = metrics.accuracy_score( y_train_lab, pred_train)\n",
        "print('Accuracy Score of the train dataset: ', accuracy_score_train)\n",
        "\n",
        "accuracy_score_test = metrics.accuracy_score( y_test, pred)\n",
        "print('Accuracy Score: ', accuracy_score_test)"
      ],
      "metadata": {
        "colab": {
          "base_uri": "https://localhost:8080/"
        },
        "id": "0PAQ1fCK1XiM",
        "outputId": "783e623a-bea5-4591-a9ac-fd4ae534c025"
      },
      "execution_count": 20,
      "outputs": [
        {
          "output_type": "stream",
          "name": "stdout",
          "text": [
            "Accuracy Score of the train dataset:  0.8361391694725028\n",
            "Accuracy Score:  0.7570093457943925\n"
          ]
        }
      ]
    },
    {
      "cell_type": "code",
      "source": [
        "X_train = pd.concat([X_train_lab, X_train_unlab])\n",
        "y_train = np.concatenate((y_train_lab, y_train_unlab), axis=None)\n",
        "model_LS = LabelSpreading(kernel='rbf',\n",
        "                          gamma=20, \n",
        "                          n_neighbors=7,\n",
        "                          alpha=0.5, \n",
        "                          max_iter=100,\n",
        "                          tol=0.001, \n",
        "                          n_jobs=-1, \n",
        "                         )\n",
        "label_sp_model = LabelSpreading()\n",
        "label_sp_model.fit(X_train, y_train)\n",
        "pred = label_sp_model.predict(X_test)\n",
        "pred_train = label_prop_model.predict(X_train_lab)\n",
        "\n",
        "accuracy_score_train = metrics.accuracy_score( y_train_lab, pred_train)\n",
        "print('Accuracy Score of the train dataset: ', accuracy_score_train)\n",
        "\n",
        "accuracy_score_test = metrics.accuracy_score(y_test, pred)\n",
        "print('Accuracy Score of the test dataset: ', accuracy_score_test)"
      ],
      "metadata": {
        "colab": {
          "base_uri": "https://localhost:8080/"
        },
        "id": "OVYyWWu92cfe",
        "outputId": "35d4558e-a295-4da3-ea0f-2b5b193dc573"
      },
      "execution_count": 21,
      "outputs": [
        {
          "output_type": "stream",
          "name": "stdout",
          "text": [
            "Accuracy Score of the train dataset:  0.8361391694725028\n",
            "Accuracy Score of the test dataset:  0.7570093457943925\n"
          ]
        }
      ]
    },
    {
      "cell_type": "markdown",
      "source": [
        "# **QN-S3VM**"
      ],
      "metadata": {
        "id": "z8GNrrkXzZRD"
      }
    },
    {
      "cell_type": "code",
      "source": [
        "np.unique(y_train_lab, return_counts=True)"
      ],
      "metadata": {
        "colab": {
          "base_uri": "https://localhost:8080/"
        },
        "id": "lMySOz6V1WWj",
        "outputId": "1757acfe-8458-4514-c657-c31461485ed2"
      },
      "execution_count": 22,
      "outputs": [
        {
          "output_type": "execute_result",
          "data": {
            "text/plain": [
              "(array([0, 1, 2, 3, 4, 5]), array([297, 297, 297, 297, 297, 297]))"
            ]
          },
          "metadata": {},
          "execution_count": 22
        }
      ]
    },
    {
      "cell_type": "code",
      "source": [
        "#this piece of code was taken from HW5\n",
        "#OVR approach - Class 0 \n",
        "import random\n",
        "my_random_generator = random.Random()\n",
        "my_random_generator.seed(0)\n",
        "\n",
        "xlab = list(np.array(X_train_lab))\n",
        "ylab = list(np.array(y_train_lab))\n",
        "\n",
        "for i in range(len(ylab)):\n",
        "    if ylab[i] in [1,2,3,4,5]:\n",
        "        ylab[i] = -1\n",
        "    else:\n",
        "        ylab[i] = 1\n",
        "\n",
        "xunlab = list(np.array(X_train_unlab))\n",
        "\n",
        "xtt = list(np.array(X_test))\n",
        "ytt = list(np.array(y_test))\n",
        "\n",
        "for i in range(len(ytt)):\n",
        "    if ytt[i] in [1,2,3,4,5]:\n",
        "        ytt[i] = -1\n",
        "    else:\n",
        "        ytt[i] = 1\n",
        "\n",
        "model = QN_S3VM(xlab, ylab, xunlab, my_random_generator)\n",
        "model.train()\n",
        "y_pred = model.getPredictions(xtt)\n",
        "print(accuracy_score(ytt, y_pred))\n",
        " "
      ],
      "metadata": {
        "colab": {
          "base_uri": "https://localhost:8080/"
        },
        "id": "XWptIgejonB3",
        "outputId": "6171ac30-61c2-46d2-84f2-b20424f260b0"
      },
      "execution_count": 23,
      "outputs": [
        {
          "output_type": "stream",
          "name": "stdout",
          "text": [
            "0.8691588785046729\n"
          ]
        }
      ]
    },
    {
      "cell_type": "code",
      "source": [
        "#OVR approach - Class 1 \n",
        "\n",
        "my_random_generator = random.Random()\n",
        "my_random_generator.seed(0)\n",
        "\n",
        "xlab = list(np.array(X_train_lab))\n",
        "ylab = list(np.array(y_train_lab))\n",
        "\n",
        "for i in range(len(ylab)):\n",
        "    if ylab[i] in [0,2,3,4,5]:\n",
        "        ylab[i] = -1\n",
        "    else:\n",
        "        ylab[i] = 1\n",
        "\n",
        "xunlab = list(np.array(X_train_unlab))\n",
        "\n",
        "xtt = list(np.array(X_test))\n",
        "ytt = list(np.array(y_test))\n",
        "\n",
        "for i in range(len(ytt)):\n",
        "    if ytt[i] in [1,2,3,4,5]:\n",
        "        ytt[i] = -1\n",
        "    else:\n",
        "        ytt[i] = 1\n",
        "\n",
        "model = QN_S3VM(xlab, ylab, xunlab, my_random_generator)\n",
        "model.train()\n",
        "y_pred = model.getPredictions(xtt)\n",
        "print(accuracy_score(ytt, y_pred))"
      ],
      "metadata": {
        "colab": {
          "base_uri": "https://localhost:8080/"
        },
        "id": "tfW5q-9m35b1",
        "outputId": "4d399cbe-8746-47b6-cffc-2041ea69af08"
      },
      "execution_count": 24,
      "outputs": [
        {
          "output_type": "stream",
          "name": "stdout",
          "text": [
            "0.8691588785046729\n"
          ]
        }
      ]
    },
    {
      "cell_type": "code",
      "source": [
        "#OVR approach - Class 2\n",
        "\n",
        "my_random_generator = random.Random()\n",
        "my_random_generator.seed(0)\n",
        "\n",
        "xlab = list(np.array(X_train_lab))\n",
        "ylab = list(np.array(y_train_lab))\n",
        "\n",
        "for i in range(len(ylab)):\n",
        "    if ylab[i] in [0,1,3,4,5]:\n",
        "        ylab[i] = -1\n",
        "    else:\n",
        "        ylab[i] = 1\n",
        "\n",
        "xunlab = list(np.array(X_train_unlab))\n",
        "\n",
        "xtt = list(np.array(X_test))\n",
        "ytt = list(np.array(y_test))\n",
        "\n",
        "for i in range(len(ytt)):\n",
        "    if ytt[i] in [1,2,3,4,5]:\n",
        "        ytt[i] = -1\n",
        "    else:\n",
        "        ytt[i] = 1\n",
        "\n",
        "model = QN_S3VM(xlab, ylab, xunlab, my_random_generator)\n",
        "model.train()\n",
        "y_pred = model.getPredictions(xtt)\n",
        "print(accuracy_score(ytt, y_pred))"
      ],
      "metadata": {
        "colab": {
          "base_uri": "https://localhost:8080/"
        },
        "id": "uUhUs2P-5INL",
        "outputId": "95bea71a-1914-4e76-c61b-c5ff079e2e92"
      },
      "execution_count": 25,
      "outputs": [
        {
          "output_type": "stream",
          "name": "stdout",
          "text": [
            "0.8691588785046729\n"
          ]
        }
      ]
    },
    {
      "cell_type": "code",
      "source": [
        "#OVR approach - Class 3\n",
        "\n",
        "my_random_generator = random.Random()\n",
        "my_random_generator.seed(0)\n",
        "\n",
        "xlab = list(np.array(X_train_lab))\n",
        "ylab = list(np.array(y_train_lab))\n",
        "\n",
        "for i in range(len(ylab)):\n",
        "    if ylab[i] in [0,1,2,4,5]:\n",
        "        ylab[i] = -1\n",
        "    else:\n",
        "        ylab[i] = 1\n",
        "\n",
        "xunlab = list(np.array(X_train_unlab))\n",
        "\n",
        "xtt = list(np.array(X_test))\n",
        "ytt = list(np.array(y_test))\n",
        "\n",
        "for i in range(len(ytt)):\n",
        "    if ytt[i] in [1,2,3,4,5]:\n",
        "        ytt[i] = -1\n",
        "    else:\n",
        "        ytt[i] = 1\n",
        "\n",
        "model = QN_S3VM(xlab, ylab, xunlab, my_random_generator)\n",
        "model.train()\n",
        "y_pred = model.getPredictions(xtt)\n",
        "print(accuracy_score(ytt, y_pred))"
      ],
      "metadata": {
        "colab": {
          "base_uri": "https://localhost:8080/"
        },
        "id": "Ut5CjWJJ6lwm",
        "outputId": "1f482b22-1715-453c-dc1e-c2588b1dd2ef"
      },
      "execution_count": 26,
      "outputs": [
        {
          "output_type": "stream",
          "name": "stdout",
          "text": [
            "0.8691588785046729\n"
          ]
        }
      ]
    },
    {
      "cell_type": "code",
      "source": [
        "#OVR approach - Class 4\n",
        "\n",
        "my_random_generator = random.Random()\n",
        "my_random_generator.seed(0)\n",
        "\n",
        "xlab = list(np.array(X_train_lab))\n",
        "ylab = list(np.array(y_train_lab))\n",
        "\n",
        "for i in range(len(ylab)):\n",
        "    if ylab[i] in [0,1,2,3,5]:\n",
        "        ylab[i] = -1\n",
        "    else:\n",
        "        ylab[i] = 1\n",
        "\n",
        "xunlab = list(np.array(X_train_unlab))\n",
        "\n",
        "xtt = list(np.array(X_test))\n",
        "ytt = list(np.array(y_test))\n",
        "\n",
        "for i in range(len(ytt)):\n",
        "    if ytt[i] in [1,2,3,4,5]:\n",
        "        ytt[i] = -1\n",
        "    else:\n",
        "        ytt[i] = 1\n",
        "\n",
        "model = QN_S3VM(xlab, ylab, xunlab, my_random_generator)\n",
        "model.train()\n",
        "y_pred = model.getPredictions(xtt)\n",
        "print(accuracy_score(ytt, y_pred))"
      ],
      "metadata": {
        "colab": {
          "base_uri": "https://localhost:8080/"
        },
        "id": "FNPeYBc08hit",
        "outputId": "c4b87d4c-1698-4e5a-9ae0-da2e42185c87"
      },
      "execution_count": 27,
      "outputs": [
        {
          "output_type": "stream",
          "name": "stdout",
          "text": [
            "0.8691588785046729\n"
          ]
        }
      ]
    },
    {
      "cell_type": "code",
      "source": [
        "#OVR approach - Class 5 \n",
        "\n",
        "my_random_generator = random.Random()\n",
        "my_random_generator.seed(0)\n",
        "\n",
        "xlab = list(np.array(X_train_lab))\n",
        "ylab = list(np.array(y_train_lab))\n",
        "\n",
        "for i in range(len(ylab)):\n",
        "    if ylab[i] in [0,1,2,3,4]:\n",
        "        ylab[i] = -1\n",
        "    else:\n",
        "        ylab[i] = 1\n",
        "\n",
        "xunlab = list(np.array(X_train_unlab))\n",
        "\n",
        "xtt = list(np.array(X_test))\n",
        "ytt = list(np.array(y_test))\n",
        "\n",
        "for i in range(len(ytt)):\n",
        "    if ytt[i] in [1,2,3,4,5]:\n",
        "        ytt[i] = -1\n",
        "    else:\n",
        "        ytt[i] = 1\n",
        "\n",
        "model = QN_S3VM(xlab, ylab, xunlab, my_random_generator)\n",
        "model.train()\n",
        "y_pred = model.getPredictions(xtt)\n",
        "print(accuracy_score(ytt, y_pred))"
      ],
      "metadata": {
        "colab": {
          "base_uri": "https://localhost:8080/"
        },
        "id": "iIEeCKDS8myh",
        "outputId": "78d4e8e8-93ba-4a56-f14a-d2e4bcbe7f88"
      },
      "execution_count": 28,
      "outputs": [
        {
          "output_type": "stream",
          "name": "stdout",
          "text": [
            "0.8691588785046729\n"
          ]
        }
      ]
    },
    {
      "cell_type": "markdown",
      "source": [
        "# **Random Walk - Graph Based and Label Propagation**"
      ],
      "metadata": {
        "id": "v5R64kKSYabR"
      }
    },
    {
      "cell_type": "code",
      "source": [
        "#this code was taken from https://github.com/RobRomijnders/ssl_graph \n",
        "\n",
        "def gaussian_kernel(std=1.3):\n",
        "    \"\"\"\n",
        "    Makes a kernel function with fixed standard deviation\n",
        "    :param std: length scale of the  Gaussian kernel\n",
        "    :return:\n",
        "    \"\"\"\n",
        "    def kernel(x, y=None):\n",
        "        # Discriminate two cases\n",
        "        # - when only x is given, the Gram matrix will be symmetric. We can use this fact to save computation\n",
        "        # - when both x and y are given, then do normal calculation\n",
        "        if y is None:\n",
        "            d = squareform(pdist(x))\n",
        "        else:\n",
        "            d = cdist(x, y)\n",
        "        K = np.exp(-1/2*np.square(d/std))\n",
        "        # Possibly, you can zero-out the contributions from non-neighbors\n",
        "        # D = K.shape[1]\n",
        "        # neighbors = 5\n",
        "        # idx = np.argpartition(K,D-neighbors, axis=1)[:,:D-neighbors]\n",
        "        # for i,id in enumerate(idx):\n",
        "        #     K[i,id] = 0\n",
        "        return K\n",
        "    return kernel\n",
        "\n",
        "def generate_data(N):\n",
        "    \"\"\"\n",
        "    data generating function for the two half circles\n",
        "    :param N:\n",
        "    :return:\n",
        "    \"\"\"\n",
        "    #Sample random angle\n",
        "    angle = np.random.rand(N)*5-1\n",
        "\n",
        "    #Sample random radius\n",
        "    radius_scale = 0.3\n",
        "    radius = np.random.rand(N)*2*radius_scale+1.0-radius_scale\n",
        "\n",
        "    #Convert angle and radius to Carthesian coordinates\n",
        "    x0 = radius*np.cos(angle)+0.5\n",
        "    x1 = radius*np.sin(-1*angle)\n",
        "\n",
        "    lbl = 2*np.random.randint(0,2,size=N)-1\n",
        "\n",
        "    data = np.vstack((x0,x1)).T\n",
        "\n",
        "    # Multiply with the labels to get the mirror version of the original half circle\n",
        "    data = data*np.expand_dims(lbl,1)\n",
        "    return data,lbl\n",
        "\n",
        "def generate_data2(N):\n",
        "    \"\"\"\n",
        "    data generating function for the spiral with decreasingly growing radius\n",
        "    :param N:\n",
        "    :return:\n",
        "    \"\"\"\n",
        "    alpha_list = [0, float(np.pi)]\n",
        "    t_max = 10 # max time for which to run the radius\n",
        "\n",
        "    data = []\n",
        "    targets = []\n",
        "    for i, alpha in enumerate(alpha_list):\n",
        "        N_half = int(N/2)\n",
        "        t = t_max*np.random.rand(N_half,) #add some noise to the radius :)\n",
        "        radius = np.sqrt(t)+0.05*np.random.randn(N_half,)\n",
        "        data.append(np.vstack((radius*np.cos(t+alpha), radius*np.sin(t+alpha))).T)\n",
        "        targets.append(i*np.ones((N_half,)))\n",
        "\n",
        "    #Permute the data\n",
        "    perm = np.random.permutation(N)\n",
        "    data = np.concatenate(data,0)[perm]\n",
        "    targets = np.concatenate(targets,0)[perm]\n",
        "    return data, 2*targets-1\n",
        "\n",
        "\n",
        "def random_walk(y_labeled, X_labeled, X_unlabeled, X_train, kernel):\n",
        "    \"\"\"\n",
        "    Runs a random walk by calculating the P_infinity matrix. it assumes a model\n",
        "    where all the labeled points will\n",
        "    be absorbing states, so P(i->j)=1. The unlabeled points will not have self connections,\n",
        "    so P(i->j)=0.\n",
        "    This results in a block structure like\n",
        "    [[P_ll, P_lu],[P_ul,P_uu]] = [[identity_matrix, zero_matrix],[P_ul,P_uu]]\n",
        "    :param y_labeled: targets for labeled points\n",
        "    :param X_labeled:  data for labeled points\n",
        "    :param X_unlabeled: data for unlabeled points\n",
        "    :param X_train: data for where to evaluate the label\n",
        "    :param kernel: kernel function\n",
        "    :return:\n",
        "    \"\"\"\n",
        "    n_unlabeled = X_unlabeled.shape[0]\n",
        "    n_labeled = X_labeled.shape[0]\n",
        "    n_train = X_train.shape[0]\n",
        "\n",
        "    # from here on, we define X_eval as the data points where we want to EVALuate the labels\n",
        "    X_eval = np.concatenate((X_unlabeled, X_train), 0)\n",
        "\n",
        "    # Subfixes refer to the data. _e refers to eval data, _l refers to the labeled data\n",
        "    # So p_el refers to transition probability from eval data to labeled data\n",
        "    P_el = kernel(X_eval, X_labeled)\n",
        "    P_ee = kernel(X_eval, None)\n",
        "\n",
        "    # Set diagonal of P_ee to zero\n",
        "    # P_ee -= np.diagonal(P_ee)\n",
        "\n",
        "    # Normalize the rows to ensure each row represents a transition distribution\n",
        "    row_sum = np.expand_dims(np.sum(P_el,1)+np.sum(P_ee,1),1)\n",
        "    P_el /= row_sum\n",
        "    P_ee /= row_sum\n",
        "\n",
        "    # Calculate the lower left block of the infinity matrix\n",
        "    # P_inf = np.linalg.inv(np.eye(n_unlabeled+n_train) - P_ee).dot(P_el)\n",
        "    P_inf = np.linalg.solve(np.eye(n_unlabeled+n_train) - P_ee, P_el)\n",
        "\n",
        "    assert P_inf.shape == (n_unlabeled+n_train, n_labeled) #Just to debug the code\n",
        "\n",
        "    #Calculate the predictions on the final n_train samples\n",
        "    y_pred = np.dot(P_inf[-n_train:], y_labeled)\n",
        "    return y_pred\n",
        "\n",
        "def label_propagation(y_labeled, X_labeled, X_unlabeled, X_train, kernel, mu=1., verbose=False):\n",
        "    \"\"\"\n",
        "    Label propagation algorithm on the data\n",
        "    :param y_labeled: targets for labeled points\n",
        "    :param X_labeled:  data for labeled points\n",
        "    :param X_unlabeled: data for unlabeled points\n",
        "    :param X_train: data for where to evaluate the label\n",
        "    :param kernel: kernel function\n",
        "    :param mu: hyperparameter for the label prop algo\n",
        "    :param verbose: do you want to print stuff?\n",
        "    :return:\n",
        "    \"\"\"\n",
        "    n_unlabeled = X_unlabeled.shape[0]\n",
        "    n_labeled = X_labeled.shape[0]\n",
        "    n_train = X_train.shape[0]\n",
        "\n",
        "    # from here on, we define X_eval as the data points where we want to EVALuate the labels\n",
        "    X_eval = np.concatenate((X_labeled, X_unlabeled, X_train), 0)\n",
        "\n",
        "    # Subfixes refer to the data. _e refers to eval data, _l refers to the labeled data\n",
        "    # So p_el refers to transition probability from eval data to labeled data\n",
        "    W = kernel(X_eval, None)\n",
        "    D = np.sum(W,0)\n",
        "\n",
        "    eps = 1E-9 #arbitrary small number\n",
        "\n",
        "    A = np.diag(np.concatenate((np.ones((n_labeled)), np.zeros((n_unlabeled+n_train)))) + mu*D + mu*eps)\n",
        "\n",
        "    y_hat_0 = np.concatenate((y_labeled, np.zeros((n_unlabeled+n_train))))\n",
        "    y_hat = copy(y_hat_0)\n",
        "\n",
        "    for iter in range(100):\n",
        "        y_hat_old = y_hat\n",
        "        y_hat = np.linalg.solve(A, mu*np.dot(W, y_hat)+y_hat_0)\n",
        "\n",
        "        if np.linalg.norm(y_hat - y_hat_old) < 0.01:\n",
        "            if verbose:\n",
        "                print('Converged after %i steps'%iter)\n",
        "            break\n",
        "    else:\n",
        "        if verbose:\n",
        "            print('Not converged??')\n",
        "\n",
        "    return y_hat[-n_train:]\n",
        "\n",
        "\n",
        "def hyperparam_opt_label_prop(y_labeled, X_labeled, X_unlabeled, X_train, y_train, verbose = False):\n",
        "    ## OLD CODE\n",
        "    trials = 10\n",
        "    best_MAE = 1000\n",
        "    for trial in range(trials):\n",
        "        mu = np.random.rand()\n",
        "        std = 0.01+np.random.rand()/2\n",
        "\n",
        "        y_pred = label_propagation(y_labeled, X_labeled, X_unlabeled, X_train, gaussian_kernel(std), mu = mu, verbose=verbose)\n",
        "        MAE = np.mean(np.abs(y_pred-y_train))\n",
        "        accuracy = np.mean(np.equal(y_pred > 0.0, y_train > 0.0))\n",
        "\n",
        "        if MAE < best_MAE:\n",
        "            if verbose:\n",
        "                print('At mu %5.3f and std %5.3f we have MAE %5.3f (and acc %5.3f)'%(mu,std, MAE, accuracy))\n",
        "            best_MAE = MAE\n",
        "            best_hyper_param = (std, mu)\n",
        "\n",
        "    return best_hyper_param\n",
        "\n",
        "def hyperparam_opt_random_walk(y_labeled, X_labeled, X_unlabeled, X_train, y_train, verbose = False):\n",
        "    ## OLD CODE\n",
        "    trials = 10\n",
        "    best_MAE = 1000\n",
        "    for trial in range(trials):\n",
        "        std = 0.01+np.random.rand()/2\n",
        "\n",
        "        try:\n",
        "            y_pred = random_walk(y_labeled, X_labeled, X_unlabeled, X_train, gaussian_kernel(std))\n",
        "        except np.linalg.linalg.LinAlgError:\n",
        "            y_pred = np.zeros_like(y_train)\n",
        "        MAE = np.mean(np.abs(y_pred-y_train))\n",
        "        accuracy = np.mean(np.equal(y_pred > 0.0, y_train > 0.0))\n",
        "\n",
        "        if MAE < best_MAE:\n",
        "            if verbose:\n",
        "                print('At std %5.3f we have MAE %5.3f (and acc %5.3f)'%(std, MAE, accuracy))\n",
        "            best_MAE = MAE\n",
        "            best_hyper_param = std\n",
        "    return best_hyper_param"
      ],
      "metadata": {
        "id": "DkK8nONT9APR"
      },
      "execution_count": 29,
      "outputs": []
    },
    {
      "cell_type": "code",
      "source": [
        "#Evaluate Random Walk\n",
        "y_pred = random_walk(y_train_lab, X_train_lab, X_train_unlab, X_test, gaussian_kernel(0.1))\n",
        "accuracy = np.mean(np.equal(y_pred > 0.0, y_test > 0.0))\n",
        "print('We have accuracy %5.3f'%(accuracy))\n",
        "# confusion_matrix(y_pred, ytt)\n",
        "\n",
        "\n",
        "#Evaluate Label Prop\n",
        "y_pred = label_propagation(y_train_lab, X_train_lab, X_train_unlab, X_test, gaussian_kernel(0.1), mu = 0.4)\n",
        "accuracy =np.mean(np.equal(y_pred > 0.0, y_test > 0.0))\n",
        "print('We have accuracy %5.3f'%(accuracy))\n",
        "# confusion_matrix(y_pred, ytt)\n"
      ],
      "metadata": {
        "colab": {
          "base_uri": "https://localhost:8080/"
        },
        "id": "2kieBwaGZSvQ",
        "outputId": "d08e08ca-8c6c-45e9-9dc5-fbd0f29e73d4"
      },
      "execution_count": 30,
      "outputs": [
        {
          "output_type": "stream",
          "name": "stdout",
          "text": [
            "We have accuracy 0.794\n",
            "We have accuracy 0.869\n"
          ]
        }
      ]
    },
    {
      "cell_type": "code",
      "source": [],
      "metadata": {
        "id": "wxELkjAkc_d-"
      },
      "execution_count": 30,
      "outputs": []
    }
  ]
}
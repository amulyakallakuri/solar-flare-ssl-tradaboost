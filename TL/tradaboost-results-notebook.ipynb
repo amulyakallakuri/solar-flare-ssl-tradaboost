{
  "cells": [
    {
      "cell_type": "code",
      "execution_count": 1,
      "metadata": {
        "id": "xdUpPa0tkSzN"
      },
      "outputs": [],
      "source": [
        "# !pip3 install adapt"
      ]
    },
    {
      "cell_type": "code",
      "execution_count": null,
      "metadata": {
        "id": "7ZO6fHF_mOH3"
      },
      "outputs": [],
      "source": [
        "import warnings\n",
        "warnings.filterwarnings(\"ignore\")\n",
        "\n",
        "import numpy as np\n",
        "import pandas as pd\n",
        "\n",
        "from sklearn.cluster import KMeans\n",
        "from sklearn.preprocessing import LabelEncoder\n",
        "\n",
        "from sklearn.metrics import roc_auc_score, accuracy_score\n",
        "from sklearn.base import clone\n",
        "from sklearn.utils.validation import check_array\n",
        "\n",
        "from sklearn.discriminant_analysis import LinearDiscriminantAnalysis\n",
        "from sklearn.svm import SVC, LinearSVC\n",
        "from sklearn.tree import DecisionTreeClassifier\n",
        "from sklearn.neural_network import MLPClassifier\n",
        "from sklearn.gaussian_process import GaussianProcessClassifier\n",
        "from sklearn.ensemble import AdaBoostClassifier\n",
        "\n",
        "from adapt.instance_based import TrAdaBoost\n",
        "from adapt.base import BaseAdaptEstimator\n",
        "from scipy.sparse import vstack, issparse"
      ]
    },
    {
      "cell_type": "code",
      "execution_count": 5,
      "metadata": {
        "colab": {
          "base_uri": "https://localhost:8080/"
        },
        "id": "_hUZQiySiPuj",
        "outputId": "1fd3b53a-dc86-43eb-9832-2126ed84a2f0"
      },
      "outputs": [
        {
          "data": {
            "text/plain": [
              "((778, 12), (144, 12), (144, 12), (778,), (144,), (144,))"
            ]
          },
          "execution_count": 5,
          "metadata": {},
          "output_type": "execute_result"
        }
      ],
      "source": [
        "datafile = 'flare.dat'\n",
        "df = pd.read_csv(datafile, sep=\"\\s+\", header=None)\n",
        "\n",
        "cat = pd.DataFrame()\n",
        "cat[0] = df[0]\n",
        "cat[1] = df[1]\n",
        "cat[2] = df[11]\n",
        "df = df.drop([0,1,11], axis=1)\n",
        "\n",
        "cat = cat.apply(LabelEncoder().fit_transform)\n",
        "df[0], df[1], classes = cat[0], cat[1], cat[2]\n",
        "\n",
        "for i in range(2,11):\n",
        "    df[i] = df[i].str.replace(',', '').astype(int)\n",
        "\n",
        "model = KMeans(n_clusters=2)\n",
        "model.fit(df)\n",
        "y_pred = pd.DataFrame(model.predict(df))\n",
        "clusters = model.fit_predict(df)\n",
        "\n",
        "df['y_pred'] = y_pred\n",
        "\n",
        "Xt = df[df['y_pred'] == 0]\n",
        "yt = classes[df['y_pred']==0]\n",
        "Xs = df[df['y_pred'] == 1]\n",
        "ys = classes[df['y_pred'] == 1]\n",
        "\n",
        "split = int(len(Xt)/2)\n",
        "Xtest = Xt[split:]\n",
        "ytest = yt[split:]\n",
        "Xt = Xt[:split]\n",
        "yt = yt[:split]\n",
        "Xs.shape, Xt.shape, Xtest.shape, ys.shape, yt.shape, ytest.shape"
      ]
    },
    {
      "cell_type": "code",
      "execution_count": 6,
      "metadata": {
        "id": "fFAq3nomOnhs"
      },
      "outputs": [],
      "source": [
        "class OwnTrAdaBoost(object):\n",
        "    def __init__(self,N=10,base_estimator=DecisionTreeClassifier(),score=roc_auc_score):    \n",
        "        self.N=N\n",
        "        self.base_estimator=base_estimator\n",
        "        self.score=score\n",
        "        self.beta_all = None\n",
        "        self.estimators=[]\n",
        "            \n",
        "    def _calculate_weights(self,weights): \n",
        "        weights = weights.ravel()     \n",
        "        total = np.sum(weights)   \n",
        "        print(total,np.min(weights),np.max(weights))   \n",
        "        return np.asarray(weights / total, order='C')      \n",
        "                    \n",
        "    def _calculate_error_rate(self,y_true, y_pred, weight):      \n",
        "        weight = weight.ravel()\n",
        "        total = np.sum(weight) \n",
        "        print(total,np.min(weight),np.max(weight))     \n",
        "        return np.sum(weight / total * np.abs(y_true ^ y_pred))      \n",
        "             \n",
        "    def fit(self,source,target,source_label,target_label):\n",
        "        source_shape=source.shape[0]\n",
        "        target_shape=target.shape[0]\n",
        "        trans_data = np.concatenate((source, target), axis=0)      \n",
        "        trans_label = np.concatenate((source_label,target_label), axis=0)      \n",
        "        weights_source = np.ones([source_shape, 1])/source_shape      \n",
        "        weights_target = np.ones([target_shape, 1])/target_shape\n",
        "        weights = np.concatenate((weights_source, weights_target), axis=0)\n",
        "        \n",
        "        bata = 1 / (1 + np.sqrt(2 * np.log(source_shape) / self.N))    \n",
        "        self.beta_all = np.zeros([1, self.N])\n",
        "        result_label = np.ones([source_shape+target_shape, self.N])    \n",
        "\n",
        "        trans_data = np.asarray(trans_data, order='C')\n",
        "        trans_label = np.asarray(trans_label, order='C')     \n",
        "        \n",
        "        best_round = 0\n",
        "        score=0\n",
        "        flag=0\n",
        "        \n",
        "        for i in range(self.N):      \n",
        "            P = self._calculate_weights(weights) \n",
        "            est = clone(self.base_estimator).fit(trans_data,trans_label,sample_weight=P.ravel())\n",
        "            self.estimators.append(est)\n",
        "            y_preds=est.predict(trans_data)\n",
        "            result_label[:, i]=y_preds\n",
        "\n",
        "            y_target_pred=est.predict(target)\n",
        "            error_rate = self._calculate_error_rate(target_label, y_target_pred,  \\\n",
        "                                              weights[source_shape:source_shape + target_shape, :])  \n",
        "            if error_rate >= 0.5 or error_rate == 0:      \n",
        "                self.N = i\n",
        "                print('early stop! due to error_rate=%.2f'%(error_rate))      \n",
        "                break       \n",
        "\n",
        "            self.beta_all[0, i] = error_rate / (1 - error_rate)      \n",
        "     \n",
        "            for j in range(target_shape):      \n",
        "                weights[source_shape + j] = weights[source_shape + j] * \\\n",
        "                np.power(self.beta_all[0, i],(-np.abs(result_label[source_shape + j, i] - target_label[j])))\n",
        "  \n",
        "            for j in range(source_shape):      \n",
        "                weights[j] = weights[j] * np.power(bata,np.abs(result_label[j, i] - source_label[j]))\n",
        "                \n",
        "            tp=self.score(target_label,y_target_pred)\n",
        "            print('The '+str(i)+' rounds score is '+str(tp))\n",
        "\n",
        "    def _predict_one(self, x):\n",
        "        \"\"\"\n",
        "        Output the hypothesis for a single instance\n",
        "        :param x: array-like\n",
        "            target label of a single instance from each iteration in order\n",
        "        :return: 0 or 1\n",
        "        \"\"\"\n",
        "        x, N = check_array(x, ensure_2d=False), self.N\n",
        "        # replace 0 by 1 to avoid zero division and remove it from the product\n",
        "        beta = [self.beta_all[0,t] if self.beta_all[0,t] != 0 else 1 for t in range(int(np.ceil(N/2)), N)]\n",
        "        cond = np.prod([b ** -x for b in beta]) >= np.prod([b ** -0.5 for b in beta])\n",
        "        return int(cond)\n",
        "\n",
        "    def predict(self, x_test):\n",
        "        y_pred_list = np.array([est.predict(x_test) for est in self.estimators]).T\n",
        "        y_pred = np.array(list(map(self._predict_one, y_pred_list)))\n",
        "        return y_pred\n"
      ]
    },
    {
      "cell_type": "code",
      "execution_count": 7,
      "metadata": {
        "colab": {
          "base_uri": "https://localhost:8080/"
        },
        "id": "d9d5u7Wutucp",
        "outputId": "655fc446-ab47-4f67-cc71-e73d5f3ea8d4"
      },
      "outputs": [
        {
          "name": "stdout",
          "output_type": "stream",
          "text": [
            "2.0 0.0012853470437017994 0.006944444444444444\n",
            "1.0000000000000002 0.006944444444444444 0.006944444444444444\n",
            "early stop! due to error_rate=1.24\n",
            "[1]\n",
            "[1]\n",
            "[1]\n",
            "train acc: 0.2352185089974293\n",
            "target acc: 0.09027777777777778\n",
            "target_test acc: 0.10416666666666667\n"
          ]
        }
      ],
      "source": [
        "%reload_ext autoreload\n",
        "base_estimator = DecisionTreeClassifier(max_depth=2)\n",
        "clf = OwnTrAdaBoost(N=3,base_estimator=base_estimator,score=accuracy_score)\n",
        "clf.fit(Xs,Xt,ys,yt)\n",
        "\n",
        "ys_pred = clf.predict(Xs)\n",
        "yt_pred = clf.predict(Xt)\n",
        "ytest_pred = clf.predict(Xtest)\n",
        "print(np.unique(ys_pred))\n",
        "print(np.unique(yt_pred))\n",
        "print(np.unique(ytest_pred))\n",
        "print('train acc:',accuracy_score(ys,ys_pred))\n",
        "print('target acc:',accuracy_score(yt,yt_pred))\n",
        "print('target_test acc:',accuracy_score(ytest,ytest_pred))"
      ]
    },
    {
      "cell_type": "code",
      "execution_count": 8,
      "metadata": {
        "colab": {
          "base_uri": "https://localhost:8080/"
        },
        "id": "kvcb08GAYPUM",
        "outputId": "14f70c92-008f-44c8-ed49-d0646518ebcf"
      },
      "outputs": [
        {
          "name": "stdout",
          "output_type": "stream",
          "text": [
            "2.0 0.0012853470437017994 0.006944444444444444\n",
            "1.0000000000000002 0.006944444444444444 0.006944444444444444\n",
            "early stop! due to error_rate=1.30\n",
            "[1]\n",
            "[1]\n",
            "[1]\n",
            "train acc: 0.2352185089974293\n",
            "target acc: 0.09027777777777778\n",
            "target_test acc: 0.10416666666666667\n"
          ]
        }
      ],
      "source": [
        "%reload_ext autoreload\n",
        "base_estimator = LinearSVC()\n",
        "clf = OwnTrAdaBoost(N=3,base_estimator=base_estimator,score=accuracy_score)\n",
        "clf.fit(Xs,Xt,ys,yt)\n",
        "\n",
        "ys_pred = clf.predict(Xs)\n",
        "yt_pred = clf.predict(Xt)\n",
        "ytest_pred = clf.predict(Xtest)\n",
        "print(np.unique(ys_pred))\n",
        "print(np.unique(yt_pred))\n",
        "print(np.unique(ytest_pred))\n",
        "print('train acc:',accuracy_score(ys,ys_pred))\n",
        "print('target acc:',accuracy_score(yt,yt_pred))\n",
        "print('target_test acc:',accuracy_score(ytest,ytest_pred))"
      ]
    },
    {
      "cell_type": "code",
      "execution_count": 9,
      "metadata": {
        "colab": {
          "base_uri": "https://localhost:8080/"
        },
        "id": "VMoleqMkYPfs",
        "outputId": "de13e407-f185-438c-8c71-acb3538b0b12"
      },
      "outputs": [
        {
          "name": "stdout",
          "output_type": "stream",
          "text": [
            "2.0 0.0012853470437017994 0.006944444444444444\n",
            "1.0000000000000002 0.006944444444444444 0.006944444444444444\n",
            "early stop! due to error_rate=2.22\n",
            "[1]\n",
            "[1]\n",
            "[1]\n",
            "train acc: 0.2352185089974293\n",
            "target acc: 0.09027777777777778\n",
            "target_test acc: 0.10416666666666667\n"
          ]
        }
      ],
      "source": [
        "%reload_ext autoreload\n",
        "base_estimator = SVC()\n",
        "clf = OwnTrAdaBoost(N=3,base_estimator=base_estimator,score=accuracy_score)\n",
        "clf.fit(Xs,Xt,ys,yt)\n",
        "\n",
        "ys_pred = clf.predict(Xs)\n",
        "yt_pred = clf.predict(Xt)\n",
        "ytest_pred = clf.predict(Xtest)\n",
        "print(np.unique(ys_pred))\n",
        "print(np.unique(yt_pred))\n",
        "print(np.unique(ytest_pred))\n",
        "print('train acc:',accuracy_score(ys,ys_pred))\n",
        "print('target acc:',accuracy_score(yt,yt_pred))\n",
        "print('target_test acc:',accuracy_score(ytest,ytest_pred))"
      ]
    },
    {
      "cell_type": "code",
      "execution_count": 10,
      "metadata": {
        "colab": {
          "base_uri": "https://localhost:8080/"
        },
        "id": "Xrezq7gNgK2H",
        "outputId": "b5a76ec4-1877-4e74-ba1a-8abcdaab4647"
      },
      "outputs": [
        {
          "name": "stdout",
          "output_type": "stream",
          "text": [
            "train acc: 0.87146529562982\n",
            "target acc: 0.4722222222222222\n",
            "target_test acc: 0.5069444444444444\n"
          ]
        }
      ],
      "source": [
        "baseline = AdaBoostClassifier(base_estimator=DecisionTreeClassifier(), n_estimators=3)\n",
        "baseline.fit(Xs,ys)\n",
        "ys_pred = baseline.predict(Xs)\n",
        "yt_pred = baseline.predict(Xt)\n",
        "ytest_pred = baseline.predict(Xtest)\n",
        "print('train acc:',accuracy_score(ys,ys_pred))\n",
        "print('target acc:',accuracy_score(yt,yt_pred))\n",
        "print('target_test acc:',accuracy_score(ytest,ytest_pred))"
      ]
    },
    {
      "cell_type": "code",
      "execution_count": 11,
      "metadata": {
        "id": "irVyCD3_mvDw"
      },
      "outputs": [],
      "source": [
        "ys = ys.reset_index(drop=True)\n",
        "yt = yt.reset_index(drop=True)\n",
        "ytest = ytest.reset_index(drop=True)"
      ]
    },
    {
      "cell_type": "code",
      "execution_count": 12,
      "metadata": {
        "colab": {
          "base_uri": "https://localhost:8080/"
        },
        "id": "fIluMqyFlhF-",
        "outputId": "c7eedf26-cb9f-4222-ebcc-ba2cb4d7f3f5"
      },
      "outputs": [
        {
          "name": "stdout",
          "output_type": "stream",
          "text": [
            "Iteration 0 - Error: 0.6785\n",
            "Iteration 1 - Error: 0.6384\n",
            "Iteration 2 - Error: 0.6083\n",
            "Iteration 3 - Error: 0.5949\n",
            "Iteration 4 - Error: 0.5748\n",
            "Iteration 5 - Error: 0.5724\n",
            "Iteration 6 - Error: 0.5796\n",
            "Iteration 7 - Error: 0.5814\n",
            "Iteration 8 - Error: 0.5906\n",
            "Iteration 9 - Error: 0.5947\n"
          ]
        },
        {
          "data": {
            "text/plain": [
              "TrAdaBoost(Xt=     2  3  4  5  6  7  8  9  10  0  1  y_pred\n",
              "0    1  3  1  1  1  1  0  0   0  0  3       0\n",
              "5    1  2  1  1  2  1  0  0   0  0  2       0\n",
              "7    1  3  1  1  2  1  0  0   0  0  2       0\n",
              "9    1  2  1  1  2  1  0  0   0  0  2       0\n",
              "31   1  3  1  1  2  1  3  1   0  0  0       0\n",
              "..  .. .. .. .. .. .. .. ..  .. .. ..     ...\n",
              "545  2  2  1  2  2  1  1  0   0  1  2       0\n",
              "550  2  2  1  2  2  1  2  0   0  2  1       0\n",
              "551  1  3  1  2  2  1  0  0   0  1  2       0\n",
              "556  1  2  1  2  2  1  4  0   0  2  1       0\n",
              "562  2  3  1  2  2  2  1  1   0  0  1       0\n",
              "\n",
              "[144 rows x 12 columns],\n",
              "           estimator=GaussianProcessClassifier(), random_state=0,\n",
              "           yt=0      5\n",
              "1      1\n",
              "2      1\n",
              "3      1\n",
              "4      3\n",
              "      ..\n",
              "139    3\n",
              "140    3\n",
              "141    4\n",
              "142    4\n",
              "143    4\n",
              "Name: 2, Length: 144, dtype: int64)"
            ]
          },
          "execution_count": 12,
          "metadata": {},
          "output_type": "execute_result"
        }
      ],
      "source": [
        "model = TrAdaBoost(GaussianProcessClassifier(), n_estimators=10, Xt=Xt, yt=yt, random_state=0)\n",
        "model.fit(Xs, ys)"
      ]
    },
    {
      "cell_type": "code",
      "execution_count": 13,
      "metadata": {
        "colab": {
          "base_uri": "https://localhost:8080/"
        },
        "id": "zpxCOBJwl4pn",
        "outputId": "3f2bde5a-ec03-46e4-f03d-b6569edb6f5c"
      },
      "outputs": [
        {
          "data": {
            "text/plain": [
              "0.8125"
            ]
          },
          "execution_count": 13,
          "metadata": {},
          "output_type": "execute_result"
        }
      ],
      "source": [
        "model.score(Xt, yt)"
      ]
    },
    {
      "cell_type": "code",
      "execution_count": 14,
      "metadata": {
        "colab": {
          "base_uri": "https://localhost:8080/"
        },
        "id": "DlBOyqxtsoGE",
        "outputId": "07fe4c29-088a-484e-e3f9-46041440f33e"
      },
      "outputs": [
        {
          "name": "stdout",
          "output_type": "stream",
          "text": [
            "Iteration 0 - Error: 0.6963\n",
            "Iteration 1 - Error: 0.6988\n",
            "Iteration 2 - Error: 0.7014\n",
            "Iteration 3 - Error: 0.7048\n",
            "Iteration 4 - Error: 0.7065\n",
            "Iteration 5 - Error: 0.7085\n",
            "Iteration 6 - Error: 0.7117\n",
            "Iteration 7 - Error: 0.7181\n",
            "Iteration 8 - Error: 0.7310\n",
            "Iteration 9 - Error: 0.7424\n"
          ]
        },
        {
          "data": {
            "text/plain": [
              "TrAdaBoost(Xt=     2  3  4  5  6  7  8  9  10  0  1  y_pred\n",
              "0    1  3  1  1  1  1  0  0   0  0  3       0\n",
              "5    1  2  1  1  2  1  0  0   0  0  2       0\n",
              "7    1  3  1  1  2  1  0  0   0  0  2       0\n",
              "9    1  2  1  1  2  1  0  0   0  0  2       0\n",
              "31   1  3  1  1  2  1  3  1   0  0  0       0\n",
              "..  .. .. .. .. .. .. .. ..  .. .. ..     ...\n",
              "545  2  2  1  2  2  1  1  0   0  1  2       0\n",
              "550  2  2  1  2  2  1  2  0   0  2  1       0\n",
              "551  1  3  1  2  2  1  0  0   0  1  2       0\n",
              "556  1  2  1  2  2  1  4  0   0  2  1       0\n",
              "562  2  3  1  2  2  2  1  1   0  0  1       0\n",
              "\n",
              "[144 rows x 12 columns],\n",
              "           estimator=LinearSVC(), random_state=0,\n",
              "           yt=0      5\n",
              "1      1\n",
              "2      1\n",
              "3      1\n",
              "4      3\n",
              "      ..\n",
              "139    3\n",
              "140    3\n",
              "141    4\n",
              "142    4\n",
              "143    4\n",
              "Name: 2, Length: 144, dtype: int64)"
            ]
          },
          "execution_count": 14,
          "metadata": {},
          "output_type": "execute_result"
        }
      ],
      "source": [
        "model = TrAdaBoost(LinearSVC(), n_estimators=10, Xt=Xt, yt=yt, random_state=0)\n",
        "model.fit(Xs, ys)"
      ]
    },
    {
      "cell_type": "code",
      "execution_count": 15,
      "metadata": {
        "colab": {
          "base_uri": "https://localhost:8080/"
        },
        "id": "Ute3ifGesptL",
        "outputId": "caaef542-1ac0-4310-ca56-9525dc6dee4a"
      },
      "outputs": [
        {
          "data": {
            "text/plain": [
              "0.5972222222222222"
            ]
          },
          "execution_count": 15,
          "metadata": {},
          "output_type": "execute_result"
        }
      ],
      "source": [
        "model.score(Xt, yt)"
      ]
    },
    {
      "cell_type": "code",
      "execution_count": 16,
      "metadata": {
        "colab": {
          "base_uri": "https://localhost:8080/"
        },
        "id": "VjjnCU5_s7C5",
        "outputId": "e9e038d2-c951-4b3f-bae0-03f64e67b888"
      },
      "outputs": [
        {
          "name": "stdout",
          "output_type": "stream",
          "text": [
            "Iteration 0 - Error: 0.4409\n",
            "Iteration 1 - Error: 0.4932\n",
            "Iteration 2 - Error: 0.5182\n",
            "Iteration 3 - Error: 0.5298\n",
            "Iteration 4 - Error: 0.5123\n",
            "Iteration 5 - Error: 0.5502\n",
            "Iteration 6 - Error: 0.5608\n",
            "Iteration 7 - Error: 0.5729\n",
            "Iteration 8 - Error: 0.5810\n",
            "Iteration 9 - Error: 0.5809\n"
          ]
        },
        {
          "data": {
            "text/plain": [
              "TrAdaBoost(Xt=     2  3  4  5  6  7  8  9  10  0  1  y_pred\n",
              "0    1  3  1  1  1  1  0  0   0  0  3       0\n",
              "5    1  2  1  1  2  1  0  0   0  0  2       0\n",
              "7    1  3  1  1  2  1  0  0   0  0  2       0\n",
              "9    1  2  1  1  2  1  0  0   0  0  2       0\n",
              "31   1  3  1  1  2  1  3  1   0  0  0       0\n",
              "..  .. .. .. .. .. .. .. ..  .. .. ..     ...\n",
              "545  2  2  1  2  2  1  1  0   0  1  2       0\n",
              "550  2  2  1  2  2  1  2  0   0  2  1       0\n",
              "551  1  3  1  2  2  1  0  0   0  1  2       0\n",
              "556  1  2  1  2  2  1  4  0   0  2  1       0\n",
              "562  2  3  1  2  2  2  1  1   0  0  1       0\n",
              "\n",
              "[144 rows x 12 columns],\n",
              "           estimator=MLPClassifier(), random_state=0,\n",
              "           yt=0      5\n",
              "1      1\n",
              "2      1\n",
              "3      1\n",
              "4      3\n",
              "      ..\n",
              "139    3\n",
              "140    3\n",
              "141    4\n",
              "142    4\n",
              "143    4\n",
              "Name: 2, Length: 144, dtype: int64)"
            ]
          },
          "execution_count": 16,
          "metadata": {},
          "output_type": "execute_result"
        }
      ],
      "source": [
        "model = TrAdaBoost(MLPClassifier(), n_estimators=10, Xt=Xt, yt=yt, random_state=0)\n",
        "model.fit(Xs, ys)"
      ]
    },
    {
      "cell_type": "code",
      "execution_count": 17,
      "metadata": {
        "colab": {
          "base_uri": "https://localhost:8080/"
        },
        "id": "ORfFngPBs7C8",
        "outputId": "be540360-5f22-4372-8dff-4e75363efa98"
      },
      "outputs": [
        {
          "data": {
            "text/plain": [
              "0.7361111111111112"
            ]
          },
          "execution_count": 17,
          "metadata": {},
          "output_type": "execute_result"
        }
      ],
      "source": [
        "model.score(Xt, yt)"
      ]
    },
    {
      "cell_type": "code",
      "execution_count": 18,
      "metadata": {
        "colab": {
          "base_uri": "https://localhost:8080/"
        },
        "id": "0kt1m_ufs8Qt",
        "outputId": "6b3000e6-2232-4fb4-dbd5-f351055f1f6d"
      },
      "outputs": [
        {
          "name": "stdout",
          "output_type": "stream",
          "text": [
            "Iteration 0 - Error: 0.4802\n",
            "Iteration 1 - Error: 0.5404\n",
            "Iteration 2 - Error: 0.5832\n",
            "Iteration 3 - Error: 0.6209\n",
            "Iteration 4 - Error: 0.6611\n",
            "Iteration 5 - Error: 0.6850\n",
            "Iteration 6 - Error: 0.7009\n",
            "Iteration 7 - Error: 0.7072\n",
            "Iteration 8 - Error: 0.7053\n",
            "Iteration 9 - Error: 0.7010\n"
          ]
        },
        {
          "data": {
            "text/plain": [
              "TrAdaBoost(Xt=     2  3  4  5  6  7  8  9  10  0  1  y_pred\n",
              "0    1  3  1  1  1  1  0  0   0  0  3       0\n",
              "5    1  2  1  1  2  1  0  0   0  0  2       0\n",
              "7    1  3  1  1  2  1  0  0   0  0  2       0\n",
              "9    1  2  1  1  2  1  0  0   0  0  2       0\n",
              "31   1  3  1  1  2  1  3  1   0  0  0       0\n",
              "..  .. .. .. .. .. .. .. ..  .. .. ..     ...\n",
              "545  2  2  1  2  2  1  1  0   0  1  2       0\n",
              "550  2  2  1  2  2  1  2  0   0  2  1       0\n",
              "551  1  3  1  2  2  1  0  0   0  1  2       0\n",
              "556  1  2  1  2  2  1  4  0   0  2  1       0\n",
              "562  2  3  1  2  2  2  1  1   0  0  1       0\n",
              "\n",
              "[144 rows x 12 columns],\n",
              "           estimator=LinearDiscriminantAnalysis(), random_state=0,\n",
              "           yt=0      5\n",
              "1      1\n",
              "2      1\n",
              "3      1\n",
              "4      3\n",
              "      ..\n",
              "139    3\n",
              "140    3\n",
              "141    4\n",
              "142    4\n",
              "143    4\n",
              "Name: 2, Length: 144, dtype: int64)"
            ]
          },
          "execution_count": 18,
          "metadata": {},
          "output_type": "execute_result"
        }
      ],
      "source": [
        "model = TrAdaBoost(LinearDiscriminantAnalysis(), n_estimators=10, Xt=Xt, yt=yt, random_state=0)\n",
        "model.fit(Xs, ys)"
      ]
    },
    {
      "cell_type": "code",
      "execution_count": 19,
      "metadata": {
        "colab": {
          "base_uri": "https://localhost:8080/"
        },
        "id": "s0rUSJrjs8Qv",
        "outputId": "bfa6e0e8-d50d-46be-c185-e38ffd2a663a"
      },
      "outputs": [
        {
          "data": {
            "text/plain": [
              "0.4861111111111111"
            ]
          },
          "execution_count": 19,
          "metadata": {},
          "output_type": "execute_result"
        }
      ],
      "source": [
        "model.score(Xt, yt)"
      ]
    },
    {
      "cell_type": "code",
      "execution_count": 20,
      "metadata": {
        "id": "rF-CYG0KTeqv"
      },
      "outputs": [],
      "source": [
        "from adapt.base import BaseAdaptEstimator\n",
        "from scipy.sparse import vstack, issparse\n",
        "\n",
        "# We create here the AUX model which consist in a balanced weighting\n",
        "# between instances from source and target domains.\n",
        "class BalancedWeighting(BaseAdaptEstimator):\n",
        "\n",
        "    def __init__(self, estimator=None, alpha=1., Xt=None, yt=None):\n",
        "        super().__init__(estimator=estimator, alpha=alpha, Xt=Xt, yt=yt)\n",
        "\n",
        "    def fit(self, Xs, ys, Xt=None, yt=None, **kwargs):\n",
        "        Xt, yt = self._get_target_data(Xt, yt)\n",
        "        if issparse(Xs):\n",
        "            X = vstack((Xs, Xt))\n",
        "        else:\n",
        "            X = np.concatenate((Xs, Xt))\n",
        "        y = np.concatenate((ys, yt))\n",
        "        sample_weight = np.ones(X.shape[0])\n",
        "        sample_weight[Xs.shape[0]:] *= (Xs.shape[0] / Xt.shape[0]) * self.alpha\n",
        "\n",
        "        self.fit_estimator(X, y, sample_weight=sample_weight)"
      ]
    },
    {
      "cell_type": "code",
      "execution_count": 22,
      "metadata": {
        "colab": {
          "base_uri": "https://localhost:8080/"
        },
        "id": "liLyhls0myBc",
        "outputId": "d6ccaf3a-ad99-41b9-dfd9-90de8fc50926"
      },
      "outputs": [
        {
          "name": "stdout",
          "output_type": "stream",
          "text": [
            "Xs shape: (778, 12), Xt shape: (144, 12)\n",
            "Round 0 : {'SVM': 0.5694444444444444, 'SVMt': 0.5694444444444444, 'AUX': 0.45833333333333337, 'TrAdaBoost': 0.5763888888888888}\n",
            "Round 1 : {'SVM': 0.5694444444444444, 'SVMt': 0.5625, 'AUX': 0.4375, 'TrAdaBoost': 0.5833333333333333}\n",
            "Round 2 : {'SVM': 0.5694444444444444, 'SVMt': 0.5625, 'AUX': 0.47916666666666663, 'TrAdaBoost': 0.5833333333333333}\n",
            "Round 3 : {'SVM': 0.5625, 'SVMt': 0.5694444444444444, 'AUX': 0.5138888888888888, 'TrAdaBoost': 0.5763888888888888}\n",
            "Round 4 : {'SVM': 0.5694444444444444, 'SVMt': 0.5625, 'AUX': 0.48611111111111116, 'TrAdaBoost': 0.5555555555555556}\n",
            "Round 5 : {'SVM': 0.5694444444444444, 'SVMt': 0.5694444444444444, 'AUX': 0.5, 'TrAdaBoost': 0.5555555555555556}\n",
            "Round 6 : {'SVM': 0.5694444444444444, 'SVMt': 0.5694444444444444, 'AUX': 0.4652777777777778, 'TrAdaBoost': 0.5833333333333333}\n",
            "Round 7 : {'SVM': 0.5694444444444444, 'SVMt': 0.5694444444444444, 'AUX': 0.5277777777777778, 'TrAdaBoost': 0.5555555555555556}\n",
            "Round 8 : {'SVM': 0.5694444444444444, 'SVMt': 0.5694444444444444, 'AUX': 0.47916666666666663, 'TrAdaBoost': 0.5833333333333333}\n",
            "Round 9 : {'SVM': 0.5694444444444444, 'SVMt': 0.5694444444444444, 'AUX': 0.4305555555555556, 'TrAdaBoost': 0.5416666666666667}\n"
          ]
        }
      ],
      "source": [
        "names = [\"SVM\", \"SVMt\", \"AUX\", \"TrAdaBoost\"]\n",
        "scores = {k: [] for k in names}\n",
        "\n",
        "for state in range(10):\n",
        "    np.random.seed(state)\n",
        "    if state == 0:\n",
        "        print(\"Xs shape: %s, Xt shape: %s\"%(str(Xs.shape), str(Xt.shape)))\n",
        "    models = [\n",
        "        LinearSVC(class_weight=\"balanced\"),\n",
        "        LinearSVC(class_weight=\"balanced\"),\n",
        "        BalancedWeighting(LinearSVC(class_weight=\"balanced\"), alpha=4., Xt=Xtest, yt=ytest),\n",
        "        TrAdaBoost(LinearSVC(class_weight=\"balanced\"), n_estimators=100, verbose=0, Xt=Xtest, yt=ytest)\n",
        "    ]\n",
        "    for model, name in zip(models, names):\n",
        "        model.fit(Xs, ys)\n",
        "        scores[name].append(1-model.score(Xt, yt))\n",
        "\n",
        "    print(\"Round %i : %s\"%(state, str({k: v[-1] for k, v in scores.items()})))"
      ]
    },
    {
      "cell_type": "code",
      "execution_count": 23,
      "metadata": {
        "colab": {
          "base_uri": "https://localhost:8080/",
          "height": 80
        },
        "id": "DQ8KeDSenUog",
        "outputId": "6e8f593d-0a0b-4a62-d1d9-530eea42a5fa"
      },
      "outputs": [
        {
          "data": {
            "text/html": [
              "\n",
              "  <div id=\"df-6f126d9a-949a-4e84-9453-2e60b9569890\">\n",
              "    <div class=\"colab-df-container\">\n",
              "      <div>\n",
              "<style scoped>\n",
              "    .dataframe tbody tr th:only-of-type {\n",
              "        vertical-align: middle;\n",
              "    }\n",
              "\n",
              "    .dataframe tbody tr th {\n",
              "        vertical-align: top;\n",
              "    }\n",
              "\n",
              "    .dataframe thead th {\n",
              "        text-align: right;\n",
              "    }\n",
              "</style>\n",
              "<table border=\"1\" class=\"dataframe\">\n",
              "  <thead>\n",
              "    <tr style=\"text-align: right;\">\n",
              "      <th></th>\n",
              "      <th>SVM</th>\n",
              "      <th>SVMt</th>\n",
              "      <th>AUX</th>\n",
              "      <th>TrAdaBoost</th>\n",
              "    </tr>\n",
              "  </thead>\n",
              "  <tbody>\n",
              "    <tr>\n",
              "      <th>Error</th>\n",
              "      <td>0.569 (0.002)</td>\n",
              "      <td>0.567 (0.003)</td>\n",
              "      <td>0.478 (0.031)</td>\n",
              "      <td>0.569 (0.016)</td>\n",
              "    </tr>\n",
              "  </tbody>\n",
              "</table>\n",
              "</div>\n",
              "      <button class=\"colab-df-convert\" onclick=\"convertToInteractive('df-6f126d9a-949a-4e84-9453-2e60b9569890')\"\n",
              "              title=\"Convert this dataframe to an interactive table.\"\n",
              "              style=\"display:none;\">\n",
              "        \n",
              "  <svg xmlns=\"http://www.w3.org/2000/svg\" height=\"24px\"viewBox=\"0 0 24 24\"\n",
              "       width=\"24px\">\n",
              "    <path d=\"M0 0h24v24H0V0z\" fill=\"none\"/>\n",
              "    <path d=\"M18.56 5.44l.94 2.06.94-2.06 2.06-.94-2.06-.94-.94-2.06-.94 2.06-2.06.94zm-11 1L8.5 8.5l.94-2.06 2.06-.94-2.06-.94L8.5 2.5l-.94 2.06-2.06.94zm10 10l.94 2.06.94-2.06 2.06-.94-2.06-.94-.94-2.06-.94 2.06-2.06.94z\"/><path d=\"M17.41 7.96l-1.37-1.37c-.4-.4-.92-.59-1.43-.59-.52 0-1.04.2-1.43.59L10.3 9.45l-7.72 7.72c-.78.78-.78 2.05 0 2.83L4 21.41c.39.39.9.59 1.41.59.51 0 1.02-.2 1.41-.59l7.78-7.78 2.81-2.81c.8-.78.8-2.07 0-2.86zM5.41 20L4 18.59l7.72-7.72 1.47 1.35L5.41 20z\"/>\n",
              "  </svg>\n",
              "      </button>\n",
              "      \n",
              "  <style>\n",
              "    .colab-df-container {\n",
              "      display:flex;\n",
              "      flex-wrap:wrap;\n",
              "      gap: 12px;\n",
              "    }\n",
              "\n",
              "    .colab-df-convert {\n",
              "      background-color: #E8F0FE;\n",
              "      border: none;\n",
              "      border-radius: 50%;\n",
              "      cursor: pointer;\n",
              "      display: none;\n",
              "      fill: #1967D2;\n",
              "      height: 32px;\n",
              "      padding: 0 0 0 0;\n",
              "      width: 32px;\n",
              "    }\n",
              "\n",
              "    .colab-df-convert:hover {\n",
              "      background-color: #E2EBFA;\n",
              "      box-shadow: 0px 1px 2px rgba(60, 64, 67, 0.3), 0px 1px 3px 1px rgba(60, 64, 67, 0.15);\n",
              "      fill: #174EA6;\n",
              "    }\n",
              "\n",
              "    [theme=dark] .colab-df-convert {\n",
              "      background-color: #3B4455;\n",
              "      fill: #D2E3FC;\n",
              "    }\n",
              "\n",
              "    [theme=dark] .colab-df-convert:hover {\n",
              "      background-color: #434B5C;\n",
              "      box-shadow: 0px 1px 3px 1px rgba(0, 0, 0, 0.15);\n",
              "      filter: drop-shadow(0px 1px 2px rgba(0, 0, 0, 0.3));\n",
              "      fill: #FFFFFF;\n",
              "    }\n",
              "  </style>\n",
              "\n",
              "      <script>\n",
              "        const buttonEl =\n",
              "          document.querySelector('#df-6f126d9a-949a-4e84-9453-2e60b9569890 button.colab-df-convert');\n",
              "        buttonEl.style.display =\n",
              "          google.colab.kernel.accessAllowed ? 'block' : 'none';\n",
              "\n",
              "        async function convertToInteractive(key) {\n",
              "          const element = document.querySelector('#df-6f126d9a-949a-4e84-9453-2e60b9569890');\n",
              "          const dataTable =\n",
              "            await google.colab.kernel.invokeFunction('convertToInteractive',\n",
              "                                                     [key], {});\n",
              "          if (!dataTable) return;\n",
              "\n",
              "          const docLinkHtml = 'Like what you see? Visit the ' +\n",
              "            '<a target=\"_blank\" href=https://colab.research.google.com/notebooks/data_table.ipynb>data table notebook</a>'\n",
              "            + ' to learn more about interactive tables.';\n",
              "          element.innerHTML = '';\n",
              "          dataTable['output_type'] = 'display_data';\n",
              "          await google.colab.output.renderOutput(dataTable, element);\n",
              "          const docLink = document.createElement('div');\n",
              "          docLink.innerHTML = docLinkHtml;\n",
              "          element.appendChild(docLink);\n",
              "        }\n",
              "      </script>\n",
              "    </div>\n",
              "  </div>\n",
              "  "
            ],
            "text/plain": [
              "                 SVM           SVMt            AUX     TrAdaBoost\n",
              "Error  0.569 (0.002)  0.567 (0.003)  0.478 (0.031)  0.569 (0.016)"
            ]
          },
          "metadata": {},
          "output_type": "display_data"
        }
      ],
      "source": [
        "error_mu = np.round(pd.DataFrame(pd.DataFrame(scores).mean(0), columns=[\"Error\"]), 3).transpose().astype(str)\n",
        "error_std = np.round(pd.DataFrame(pd.DataFrame(scores).std(0), columns=[\"Error\"]), 3).transpose().astype(str)\n",
        "display(error_mu + \" (\" + error_std + \")\")"
      ]
    }
  ],
  "metadata": {
    "colab": {
      "provenance": []
    },
    "kernelspec": {
      "display_name": "Python 3.10.0 64-bit",
      "language": "python",
      "name": "python3"
    },
    "language_info": {
      "codemirror_mode": {
        "name": "ipython",
        "version": 3
      },
      "file_extension": ".py",
      "mimetype": "text/x-python",
      "name": "python",
      "nbconvert_exporter": "python",
      "pygments_lexer": "ipython3",
      "version": "3.10.0"
    },
    "vscode": {
      "interpreter": {
        "hash": "aee8b7b246df8f9039afb4144a1f6fd8d2ca17a180786b69acc140d282b71a49"
      }
    }
  },
  "nbformat": 4,
  "nbformat_minor": 0
}
